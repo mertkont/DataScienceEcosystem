{
 "cells": [
  {
   "cell_type": "markdown",
   "id": "b5a25dec",
   "metadata": {},
   "source": [
    "# Data Science Tools and Ecosystem"
   ]
  },
  {
   "cell_type": "markdown",
   "id": "737c20ed",
   "metadata": {},
   "source": [
    "## In this notebook, Data Science Tools and Ecosystem are summarized."
   ]
  },
  {
   "cell_type": "markdown",
   "id": "55d11cc5",
   "metadata": {},
   "source": [
    "## **Objectives**:\n",
    "\n",
    "- List popular languages for Data Science.\n",
    "- Introduce fundamental concepts of statistical analysis.\n",
    "- Demonstrate usage of Jupyter Notebooks and its importance."
   ]
  },
  {
   "cell_type": "markdown",
   "id": "13314b2a",
   "metadata": {},
   "source": [
    "### Some of the popular languages that Data Scientists use are:\n",
    "\n",
    "|No|Language|\n",
    "|--|--------|\n",
    "|1|Python|\n",
    "|2|R|\n",
    "|3|Julia|\n",
    "|4|C++|\n",
    "|5|Scala|"
   ]
  },
  {
   "cell_type": "markdown",
   "id": "e648f1ee",
   "metadata": {},
   "source": [
    "### Some of the commonly used libraries used by Data Scientists include:\n",
    "\n",
    "|No|Library|\n",
    "|--|-------|\n",
    "|1|Pandas|\n",
    "|2|NumPy|\n",
    "|3|MatPlotLib|\n",
    "|4|Scikit-learn|\n",
    "|5|Keras|\n",
    "|6|TensorFlow|\n",
    "|7|Ggplot|"
   ]
  },
  {
   "cell_type": "markdown",
   "id": "219a1574",
   "metadata": {},
   "source": [
    "|Data Science Tools|\n",
    "|------------------|\n",
    "|Jupyter Notebook|\n",
    "|Visual Studio Code|\n",
    "|R Studio|\n",
    "|Spyder|\n",
    "|PyCharm|"
   ]
  },
  {
   "cell_type": "markdown",
   "id": "0b51b47a",
   "metadata": {},
   "source": [
    "### Below are a few examples of evaluating arithmetic expressions in Python"
   ]
  },
  {
   "cell_type": "code",
   "execution_count": null,
   "id": "96182cb3",
   "metadata": {},
   "outputs": [],
   "source": [
    "# This a simple arithmetic expression to mutiply then add integers\n",
    "\n",
    "(3*4)+5"
   ]
  },
  {
   "cell_type": "code",
   "execution_count": null,
   "id": "fa2d09ce",
   "metadata": {},
   "outputs": [],
   "source": [
    "# This will convert 200 minutes to hours by diving by 60\n",
    "\n",
    "minutes = 200\n",
    "hours = 200/60\n",
    "print(int(hours))"
   ]
  },
  {
   "cell_type": "markdown",
   "id": "85c7b744",
   "metadata": {},
   "source": [
    "## Author\n",
    "\n",
    "### Mert Kont"
   ]
  }
 ],
 "metadata": {
  "kernelspec": {
   "display_name": "Python 3 (ipykernel)",
   "language": "python",
   "name": "python3"
  },
  "language_info": {
   "codemirror_mode": {
    "name": "ipython",
    "version": 3
   },
   "file_extension": ".py",
   "mimetype": "text/x-python",
   "name": "python",
   "nbconvert_exporter": "python",
   "pygments_lexer": "ipython3",
   "version": "3.11.5"
  }
 },
 "nbformat": 4,
 "nbformat_minor": 5
}
